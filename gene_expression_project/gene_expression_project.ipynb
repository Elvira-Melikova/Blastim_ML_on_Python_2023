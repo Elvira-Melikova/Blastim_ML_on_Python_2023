{
 "cells": [
  {
   "cell_type": "markdown",
   "metadata": {
    "ExecuteTime": {
     "end_time": "2024-01-21T16:14:24.590419Z",
     "start_time": "2024-01-21T16:14:24.585050Z"
    }
   },
   "source": [
    "<div class=\"alert alert-info\">\n",
    "В блоках голубого цвета указаны комментарии преподавателя\n",
    "    </div>"
   ]
  },
  {
   "cell_type": "code",
   "execution_count": 1,
   "metadata": {
    "ExecuteTime": {
     "end_time": "2024-01-21T16:49:07.933887Z",
     "start_time": "2024-01-21T16:49:06.969821Z"
    },
    "id": "OLE-TC4eN1HP"
   },
   "outputs": [],
   "source": [
    "import pandas as pd\n",
    "import seaborn as sns\n",
    "import matplotlib.pyplot as plt\n",
    "import numpy as np\n",
    "import scipy.stats as st\n",
    "from statsmodels.stats.weightstats import ztest"
   ]
  },
  {
   "cell_type": "code",
   "execution_count": 2,
   "metadata": {
    "ExecuteTime": {
     "end_time": "2024-01-21T16:49:16.530993Z",
     "start_time": "2024-01-21T16:49:07.936058Z"
    },
    "id": "OQxt1TdvN_mT"
   },
   "outputs": [
    {
     "data": {
      "text/html": [
       "<div>\n",
       "<style scoped>\n",
       "    .dataframe tbody tr th:only-of-type {\n",
       "        vertical-align: middle;\n",
       "    }\n",
       "\n",
       "    .dataframe tbody tr th {\n",
       "        vertical-align: top;\n",
       "    }\n",
       "\n",
       "    .dataframe thead th {\n",
       "        text-align: right;\n",
       "    }\n",
       "</style>\n",
       "<table border=\"1\" class=\"dataframe\">\n",
       "  <thead>\n",
       "    <tr style=\"text-align: right;\">\n",
       "      <th></th>\n",
       "      <th>TMCC1</th>\n",
       "      <th>RANBP3</th>\n",
       "      <th>GABRG3</th>\n",
       "      <th>ARRDC5</th>\n",
       "      <th>LRP3</th>\n",
       "      <th>TIMM23</th>\n",
       "      <th>TBPL1</th>\n",
       "      <th>BIRC8</th>\n",
       "      <th>TTC28</th>\n",
       "      <th>C19orf66</th>\n",
       "      <th>...</th>\n",
       "      <th>MAGEA6</th>\n",
       "      <th>IL4I1</th>\n",
       "      <th>LCN12</th>\n",
       "      <th>SMG6</th>\n",
       "      <th>C1orf100</th>\n",
       "      <th>WDR75</th>\n",
       "      <th>ZBTB26</th>\n",
       "      <th>SPTY2D1</th>\n",
       "      <th>PLEKHA2</th>\n",
       "      <th>Cell_type</th>\n",
       "    </tr>\n",
       "  </thead>\n",
       "  <tbody>\n",
       "    <tr>\n",
       "      <th>0</th>\n",
       "      <td>33.888550</td>\n",
       "      <td>38.384340</td>\n",
       "      <td>0.044721</td>\n",
       "      <td>1.385159</td>\n",
       "      <td>11.341853</td>\n",
       "      <td>105.193306</td>\n",
       "      <td>26.463990</td>\n",
       "      <td>0.000000</td>\n",
       "      <td>1.537873</td>\n",
       "      <td>27.645407</td>\n",
       "      <td>...</td>\n",
       "      <td>21.332443</td>\n",
       "      <td>1.397932</td>\n",
       "      <td>0.000000</td>\n",
       "      <td>23.136585</td>\n",
       "      <td>0.001902</td>\n",
       "      <td>60.218548</td>\n",
       "      <td>6.307399</td>\n",
       "      <td>9.577274</td>\n",
       "      <td>44.026940</td>\n",
       "      <td>B_cell</td>\n",
       "    </tr>\n",
       "    <tr>\n",
       "      <th>1</th>\n",
       "      <td>16.497124</td>\n",
       "      <td>35.054090</td>\n",
       "      <td>0.314645</td>\n",
       "      <td>4.329797</td>\n",
       "      <td>8.649321</td>\n",
       "      <td>50.577618</td>\n",
       "      <td>16.684614</td>\n",
       "      <td>0.000000</td>\n",
       "      <td>1.796609</td>\n",
       "      <td>13.715611</td>\n",
       "      <td>...</td>\n",
       "      <td>1.199440</td>\n",
       "      <td>159.147130</td>\n",
       "      <td>0.259244</td>\n",
       "      <td>18.986986</td>\n",
       "      <td>0.310971</td>\n",
       "      <td>25.818224</td>\n",
       "      <td>4.193348</td>\n",
       "      <td>14.181196</td>\n",
       "      <td>35.779896</td>\n",
       "      <td>B_cell</td>\n",
       "    </tr>\n",
       "    <tr>\n",
       "      <th>2</th>\n",
       "      <td>5.449933</td>\n",
       "      <td>31.783958</td>\n",
       "      <td>0.002949</td>\n",
       "      <td>2.137536</td>\n",
       "      <td>1.750892</td>\n",
       "      <td>109.201050</td>\n",
       "      <td>35.265984</td>\n",
       "      <td>0.011501</td>\n",
       "      <td>0.878889</td>\n",
       "      <td>19.361662</td>\n",
       "      <td>...</td>\n",
       "      <td>0.002924</td>\n",
       "      <td>25.256378</td>\n",
       "      <td>0.000000</td>\n",
       "      <td>32.941895</td>\n",
       "      <td>0.000000</td>\n",
       "      <td>99.555990</td>\n",
       "      <td>8.323141</td>\n",
       "      <td>29.321960</td>\n",
       "      <td>30.816538</td>\n",
       "      <td>B_cell</td>\n",
       "    </tr>\n",
       "    <tr>\n",
       "      <th>3</th>\n",
       "      <td>33.362240</td>\n",
       "      <td>56.147026</td>\n",
       "      <td>0.037295</td>\n",
       "      <td>1.604904</td>\n",
       "      <td>6.807299</td>\n",
       "      <td>100.141620</td>\n",
       "      <td>25.446817</td>\n",
       "      <td>0.000000</td>\n",
       "      <td>2.502661</td>\n",
       "      <td>12.745437</td>\n",
       "      <td>...</td>\n",
       "      <td>0.000000</td>\n",
       "      <td>14.509516</td>\n",
       "      <td>0.063003</td>\n",
       "      <td>19.036896</td>\n",
       "      <td>0.000000</td>\n",
       "      <td>49.394980</td>\n",
       "      <td>4.655794</td>\n",
       "      <td>17.683067</td>\n",
       "      <td>47.143270</td>\n",
       "      <td>B_cell</td>\n",
       "    </tr>\n",
       "    <tr>\n",
       "      <th>4</th>\n",
       "      <td>50.188510</td>\n",
       "      <td>30.165264</td>\n",
       "      <td>0.039678</td>\n",
       "      <td>1.501439</td>\n",
       "      <td>1.619954</td>\n",
       "      <td>46.916790</td>\n",
       "      <td>28.053373</td>\n",
       "      <td>0.018181</td>\n",
       "      <td>1.165164</td>\n",
       "      <td>30.318027</td>\n",
       "      <td>...</td>\n",
       "      <td>0.033807</td>\n",
       "      <td>93.681190</td>\n",
       "      <td>0.031816</td>\n",
       "      <td>19.094831</td>\n",
       "      <td>0.000000</td>\n",
       "      <td>20.201437</td>\n",
       "      <td>6.935232</td>\n",
       "      <td>20.769829</td>\n",
       "      <td>53.935143</td>\n",
       "      <td>B_cell</td>\n",
       "    </tr>\n",
       "  </tbody>\n",
       "</table>\n",
       "<p>5 rows × 18793 columns</p>\n",
       "</div>"
      ],
      "text/plain": [
       "       TMCC1     RANBP3    GABRG3    ARRDC5       LRP3      TIMM23      TBPL1  \\\n",
       "0  33.888550  38.384340  0.044721  1.385159  11.341853  105.193306  26.463990   \n",
       "1  16.497124  35.054090  0.314645  4.329797   8.649321   50.577618  16.684614   \n",
       "2   5.449933  31.783958  0.002949  2.137536   1.750892  109.201050  35.265984   \n",
       "3  33.362240  56.147026  0.037295  1.604904   6.807299  100.141620  25.446817   \n",
       "4  50.188510  30.165264  0.039678  1.501439   1.619954   46.916790  28.053373   \n",
       "\n",
       "      BIRC8     TTC28   C19orf66  ...     MAGEA6       IL4I1     LCN12  \\\n",
       "0  0.000000  1.537873  27.645407  ...  21.332443    1.397932  0.000000   \n",
       "1  0.000000  1.796609  13.715611  ...   1.199440  159.147130  0.259244   \n",
       "2  0.011501  0.878889  19.361662  ...   0.002924   25.256378  0.000000   \n",
       "3  0.000000  2.502661  12.745437  ...   0.000000   14.509516  0.063003   \n",
       "4  0.018181  1.165164  30.318027  ...   0.033807   93.681190  0.031816   \n",
       "\n",
       "        SMG6  C1orf100      WDR75    ZBTB26    SPTY2D1    PLEKHA2  Cell_type  \n",
       "0  23.136585  0.001902  60.218548  6.307399   9.577274  44.026940     B_cell  \n",
       "1  18.986986  0.310971  25.818224  4.193348  14.181196  35.779896     B_cell  \n",
       "2  32.941895  0.000000  99.555990  8.323141  29.321960  30.816538     B_cell  \n",
       "3  19.036896  0.000000  49.394980  4.655794  17.683067  47.143270     B_cell  \n",
       "4  19.094831  0.000000  20.201437  6.935232  20.769829  53.935143     B_cell  \n",
       "\n",
       "[5 rows x 18793 columns]"
      ]
     },
     "execution_count": 2,
     "metadata": {},
     "output_type": "execute_result"
    }
   ],
   "source": [
    "# В переменной data_path указан путь до данных\n",
    "data_path = \"/home/elvira/BLASTIM_ML_ON_PYTHON/day_09\"\n",
    "expression_data = pd.read_csv(f\"{data_path}/immune_cells_data.csv\", index_col=0)\n",
    "expression_data.head()"
   ]
  },
  {
   "cell_type": "code",
   "execution_count": 3,
   "metadata": {
    "ExecuteTime": {
     "end_time": "2024-01-21T16:49:17.760242Z",
     "start_time": "2024-01-21T16:49:16.532634Z"
    },
    "id": "9k75ZGZyVBhu"
   },
   "outputs": [],
   "source": [
    "b_cells_expression_data = expression_data.query(\"Cell_type == 'B_cell'\").drop(\"Cell_type\", axis=1)\n",
    "nk_cells_expression_data = expression_data.query(\"Cell_type == 'NK_cell'\").drop(\"Cell_type\", axis=1)"
   ]
  },
  {
   "cell_type": "markdown",
   "metadata": {
    "id": "OAUclhJ3UC2p"
   },
   "source": [
    "<div class=\"alert alert-info\">\n",
    "      В этом задании мы будем работать с данными об экспрессии генов в друх клеточных типах: в B-клетках и в NK-клетках. Выясним, средняя экспрессия каких генов значимо различается в этих клеточных типах.\n",
    "</div>"
   ]
  },
  {
   "cell_type": "markdown",
   "metadata": {
    "id": "crW-TliUUuye"
   },
   "source": [
    "<div class=\"alert alert-info\">\n",
    "    Я буду показывать примеры на одном гене, а на основе них вы сможете сделать похожие задачи для всех генов.\n",
    "    </div>"
   ]
  },
  {
   "cell_type": "code",
   "execution_count": 4,
   "metadata": {
    "ExecuteTime": {
     "end_time": "2024-01-21T16:49:17.765097Z",
     "start_time": "2024-01-21T16:49:17.762643Z"
    },
    "id": "1o1vmOSoQMRy"
   },
   "outputs": [],
   "source": [
    "example_gene = \"TMCC1\""
   ]
  },
  {
   "cell_type": "markdown",
   "metadata": {
    "id": "gFSq8BCiUb_m"
   },
   "source": [
    "## Задание 1\n",
    "\n",
    "**2 баллов**"
   ]
  },
  {
   "cell_type": "markdown",
   "metadata": {
    "id": "419ztR7lVm_E"
   },
   "source": [
    "<div class=\"alert alert-info\">\n",
    "    Посмотрим на распределение экспрессий гена `TMCC1` в обоих клеточных типах.\n",
    "    </div>"
   ]
  },
  {
   "cell_type": "code",
   "execution_count": 5,
   "metadata": {
    "ExecuteTime": {
     "start_time": "2024-01-21T16:49:06.999Z"
    },
    "id": "0ln2fQG2QMen"
   },
   "outputs": [
    {
     "data": {
      "image/png": "[encoded data removed]",
      "text/plain": [
       "<Figure size 640x480 with 1 Axes>"
      ]
     },
     "metadata": {},
     "output_type": "display_data"
    }
   ],
   "source": [
    "sns.histplot(b_cells_expression_data[example_gene], stat=\"density\");\n",
    "plt.title('B cells, TMCC1 gene');"
   ]
  },
  {
   "cell_type": "code",
   "execution_count": 6,
   "metadata": {
    "ExecuteTime": {
     "start_time": "2024-01-21T16:49:07.001Z"
    },
    "id": "pNdIdzpYQMpu"
   },
   "outputs": [
    {
     "data": {
      "image/png": "[encoded data removed]",
      "text/plain": [
       "<Figure size 640x480 with 1 Axes>"
      ]
     },
     "metadata": {},
     "output_type": "display_data"
    }
   ],
   "source": [
    "sns.histplot(nk_cells_expression_data[example_gene], stat=\"density\");\n",
    "plt.title('NK cells, TMCC1 gene');"
   ]
  },
  {
   "cell_type": "markdown",
   "metadata": {
    "id": "TvQPlK5zV77n"
   },
   "source": [
    "<div class=\"alert alert-info\">\n",
    "    Кажется, что они немного различаются. Для начала давайте попробуем еще раз проверить центральную предельную теорему.\n",
    "\n",
    "**Задание:**\n",
    "\n",
    "Напишите функцию, которая будет принимать на вход экспрессии гена, семплировать из них выборки размера `sample_size`, считать среднюю экспрессию и повторять это `n_samples` раз. Примените эту функцию к экспрессиям гена `TMCC1` в обоих клеточных типах, визуализируйте их. Отличаются ли средние экспрессии данного гена у этих клеточных типов?\n",
    "\n",
    "Сигнатура функции:\n",
    "\n",
    "```python\n",
    "def demonstrate_clt(expressions, sample_size, n_samples):\n",
    "    mean_expressions = []\n",
    "\n",
    "    return mean_expressions\n",
    "```\n",
    "</div>"
   ]
  },
  {
   "cell_type": "code",
   "execution_count": 7,
   "metadata": {
    "ExecuteTime": {
     "start_time": "2024-01-21T16:49:07.003Z"
    },
    "id": "liScG4k7qVtW"
   },
   "outputs": [
    {
     "data": {
      "image/png": "[encoded data removed]",
      "text/plain": [
       "<Figure size 1000x600 with 1 Axes>"
      ]
     },
     "metadata": {},
     "output_type": "display_data"
    }
   ],
   "source": [
    "def demonstrate_clt(expressions, sample_size, n_samples):\n",
    "    mean_expressions = []\n",
    "    \n",
    "    for _ in range(n_samples):\n",
    "        sample = np.random.choice(expressions, size=sample_size, replace=False)\n",
    "        sample_mean = np.mean(sample)\n",
    "        mean_expressions.append(sample_mean)\n",
    "\n",
    "    return mean_expressions\n",
    "\n",
    "sample_size = 20  # Размер выборки\n",
    "n_samples = 1000  # Количество семплирований\n",
    "\n",
    "# Применяем функцию к данным для двух клеточных типов\n",
    "mean_expressions_b_cells = demonstrate_clt(b_cells_expression_data[example_gene], sample_size, n_samples)\n",
    "mean_expressions_nk_cells = demonstrate_clt(nk_cells_expression_data[example_gene], sample_size, n_samples)\n",
    "\n",
    "# Визуализируем результаты\n",
    "plt.figure(figsize=(10, 6))\n",
    "plt.hist(mean_expressions_b_cells, bins=30, alpha=0.5, label='B cells')\n",
    "plt.hist(mean_expressions_nk_cells, bins=30, alpha=0.5, label='NK cells')\n",
    "plt.xlabel('Mean Expression')\n",
    "plt.ylabel('Frequency')\n",
    "plt.legend()\n",
    "plt.title('Distribution of Mean Expressions for Two Cell Types')\n",
    "plt.show()"
   ]
  },
  {
   "cell_type": "markdown",
   "metadata": {
    "id": "dy8xJYbfa_1W"
   },
   "source": [
    "<div class=\"alert alert-info\">\n",
    "    А теперь посчитайте 95% доверительные интервалы для обоих распределений (примем тот факт, что средние распределены нормально для обоих клеточных типов) и скажите, отличается ли средняя экспрессия данного гена между клеточными типами?\n",
    "    </div>"
   ]
  },
  {
   "cell_type": "code",
   "execution_count": 8,
   "metadata": {
    "ExecuteTime": {
     "start_time": "2024-01-21T16:49:07.010Z"
    },
    "scrolled": true
   },
   "outputs": [
    {
     "name": "stdout",
     "output_type": "stream",
     "text": [
      "Доверительный интервал для B-клеток (23.432, 30.526)\n",
      "Доверительный интервал для NK-клеток (26.858, 34.004)\n"
     ]
    }
   ],
   "source": [
    "# Запишем в отдельные переменные экспрессии гена для B-клеток и NK-клеток\n",
    "expressions_b_cells = np.array(b_cells_expression_data[example_gene])\n",
    "expressions_nk_cells = np.array(nk_cells_expression_data[example_gene])\n",
    "\n",
    "# Вычисляем стандартное отклонение для каждого типа клеток\n",
    "sigma_b = expressions_b_cells.std()\n",
    "sigma_nk = expressions_nk_cells.std()\n",
    "\n",
    "# Вычисляем стандартные ошибки\n",
    "se_b = sigma_b / np.sqrt(len(expressions_b_cells))\n",
    "se_nk = sigma_nk / np.sqrt(len(expressions_nk_cells))\n",
    "\n",
    "# Вычисляем доверительные интервалы\n",
    "mean_b = expressions_b_cells.mean()\n",
    "left_b = mean_b - 1.96 * se_b\n",
    "right_b = mean_b + 1.96 * se_b\n",
    "print(f'Доверительный интервал для B-клеток ({left_b:.3f}, {right_b:.3f})')\n",
    "\n",
    "mean_nk = np.array(nk_cells_expression_data[example_gene]).mean()\n",
    "left_nk = mean_nk - 1.96 * se_nk\n",
    "right_nk = mean_nk + 1.96 * se_nk\n",
    "print(f'Доверительный интервал для NK-клеток ({left_nk:.3f}, {right_nk:.3f})')"
   ]
  },
  {
   "cell_type": "code",
   "execution_count": 9,
   "metadata": {
    "ExecuteTime": {
     "start_time": "2024-01-21T16:49:07.012Z"
    }
   },
   "outputs": [
    {
     "name": "stdout",
     "output_type": "stream",
     "text": [
      "p_value = 0.180\n",
      "Средние значения не различаются (статистически незначимо)\n"
     ]
    }
   ],
   "source": [
    "# Выполняем t-тест\n",
    "t_statistic, p_value = st.ttest_ind(expressions_b_cells, expressions_nk_cells)\n",
    "print(f'p_value = {p_value:.3f}')\n",
    "\n",
    "# Проверяем статистическую значимость\n",
    "alpha = 0.05  # Уровень значимости\n",
    "if p_value < alpha:\n",
    "    print(\"Средние значения различаются (статистически значимо)\")\n",
    "else:\n",
    "    print(\"Средние значения не различаются (статистически незначимо)\")"
   ]
  },
  {
   "cell_type": "markdown",
   "metadata": {
    "id": "ohXJ3B-TcwP1"
   },
   "source": [
    "## Задание 2\n",
    "\n",
    "**4 баллов**"
   ]
  },
  {
   "cell_type": "markdown",
   "metadata": {
    "id": "OZeMqL9KdCZW"
   },
   "source": [
    "<div class=\"alert alert-info\">\n",
    "    Вспомнили центральную предельную теорему и то, как считать доверительные интервалы в простом случае, теперь давайте воспользуемся библиотечной реализацией для того, чтобы протестировать уже все гены.\n",
    "    </div>"
   ]
  },
  {
   "cell_type": "markdown",
   "metadata": {
    "id": "8UF6p1vpekvX"
   },
   "source": [
    "<div class=\"alert alert-info\">\n",
    "    Посчитаем доверительные интервалы для нашего демонстрационного гена в обоих клеточных типах:\n",
    "    </div>"
   ]
  },
  {
   "cell_type": "code",
   "execution_count": 10,
   "metadata": {
    "ExecuteTime": {
     "start_time": "2024-01-21T16:49:07.034Z"
    },
    "id": "6D37bTt5cyVm"
   },
   "outputs": [
    {
     "data": {
      "text/plain": [
       "(23.420272072079296, 30.53767158632071)"
      ]
     },
     "execution_count": 10,
     "metadata": {},
     "output_type": "execute_result"
    }
   ],
   "source": [
    "# B клетки\n",
    "st.t.interval(confidence = 0.95, # 95% доверительный интервал\n",
    "              df = len(b_cells_expression_data[example_gene]) - 1, # число степеней свободы - 1\n",
    "              loc = np.mean(b_cells_expression_data[example_gene]), # Среднее\n",
    "              scale = st.sem(b_cells_expression_data[example_gene])) # Стандартная ошибка среднего"
   ]
  },
  {
   "cell_type": "code",
   "execution_count": 11,
   "metadata": {
    "ExecuteTime": {
     "start_time": "2024-01-21T16:49:07.036Z"
    },
    "id": "fgUUKsMhcyfG"
   },
   "outputs": [
    {
     "data": {
      "text/plain": [
       "(26.84610468807562, 34.01653451272438)"
      ]
     },
     "execution_count": 11,
     "metadata": {},
     "output_type": "execute_result"
    }
   ],
   "source": [
    "# NK клетки\n",
    "st.t.interval(confidence = 0.95, # 95% доверительный интервал\n",
    "              df=len(nk_cells_expression_data[example_gene]) - 1, # число степеней свободы - 1\n",
    "              loc=np.mean(nk_cells_expression_data[example_gene]), # Среднее\n",
    "              scale=st.sem(nk_cells_expression_data[example_gene])) # Стандартная ошибка среднего"
   ]
  },
  {
   "cell_type": "markdown",
   "metadata": {
    "id": "q60PntVDfVof"
   },
   "source": [
    "<div class=\"alert alert-info\">\n",
    "    Напишите функцию для проверки того, что доверительные интервалы пересекаются. На лекции мы тестировали гипотезы для равенства среднего выборки заданному числу и проверяли, попало ли оно в границы этого интервала или нет, если оно оказывалось за ними, то мы говорили, что средние отличаются. Здесь же мы имеем дело с двумя выборками, поэтому будем проверять, пересекаются ли доверительные интервалы, и, если нет, то говорить о том, что средние в выборках отличаются.\n",
    "\n",
    "```python\n",
    "def check_intervals_intersect(first_ci, second_ci):   \n",
    "\n",
    "    return are_intersect # True or False\n",
    "```\n",
    "    </div>"
   ]
  },
  {
   "cell_type": "code",
   "execution_count": 12,
   "metadata": {
    "ExecuteTime": {
     "start_time": "2024-01-21T16:49:07.038Z"
    },
    "id": "iIYx9Pb9fO_q"
   },
   "outputs": [
    {
     "name": "stdout",
     "output_type": "stream",
     "text": [
      "True\n"
     ]
    }
   ],
   "source": [
    "def check_intervals_intersect(first_ci, second_ci):\n",
    "    # Первый доверительный интервал\n",
    "    ci_b_start, ci_b_end = ci_b\n",
    "    # Второй доверительный интервал\n",
    "    ci_nk_start, ci_nk_end = ci_nk\n",
    "\n",
    "    # Проверяем, пересекаются ли интервалы\n",
    "    if ci_b_end >= ci_nk_start and ci_nk_end >= ci_b_start:\n",
    "        return True  # Интервалы пересекаются\n",
    "    else:\n",
    "        return False  # Интервалы не пересекаются\n",
    "\n",
    "ci_b = st.t.interval(confidence = 0.95, # 95% доверительный интервал\n",
    "              df = len(b_cells_expression_data[example_gene]) - 1, # число степеней свободы - 1\n",
    "              loc = np.mean(b_cells_expression_data[example_gene]), # Среднее\n",
    "              scale = st.sem(b_cells_expression_data[example_gene])) # Стандартная ошибка среднего\n",
    "\n",
    "ci_nk = st.t.interval(confidence = 0.95, # 95% доверительный интервал\n",
    "              df=len(nk_cells_expression_data[example_gene]) - 1, # число степеней свободы - 1\n",
    "              loc=np.mean(nk_cells_expression_data[example_gene]), # Среднее\n",
    "              scale=st.sem(nk_cells_expression_data[example_gene])) # Стандартная ошибка среднего\n",
    "\n",
    "are_intersect = check_intervals_intersect(ci_b, ci_nk)\n",
    "print(are_intersect)"
   ]
  },
  {
   "cell_type": "markdown",
   "metadata": {
    "id": "2cpsVdR-gYkm"
   },
   "source": [
    "<div class=\"alert alert-info\">\n",
    "    Теперь для каждого гена посчитайте доверительные интервалы в обоих клеточных типах, и проверьте, пересекаются ли они? Результаты можно добавлять в список, например:\n",
    "\n",
    "```python\n",
    "ci_test_results = [True, False, ..., True]\n",
    "```\n",
    "    </div>"
   ]
  },
  {
   "cell_type": "code",
   "execution_count": 13,
   "metadata": {
    "ExecuteTime": {
     "start_time": "2024-01-21T16:49:07.040Z"
    },
    "id": "JMOoVjZsr7WU"
   },
   "outputs": [],
   "source": [
    "# Запишем все гены в отдельный список\n",
    "genes = expression_data.columns[:-1].tolist()\n",
    "\n",
    "ci_test_results = []  # Список для хранения результатов\n",
    "\n",
    "for gene in genes:\n",
    "    ci_b = st.t.interval(confidence=0.95,\n",
    "                         df=len(b_cells_expression_data[gene]) - 1,\n",
    "                         loc=np.mean(b_cells_expression_data[gene]),\n",
    "                         scale=st.sem(b_cells_expression_data[gene]))\n",
    "\n",
    "    ci_nk = st.t.interval(confidence=0.95,\n",
    "                          df=len(nk_cells_expression_data[gene]) - 1,\n",
    "                          loc=np.mean(nk_cells_expression_data[gene]),\n",
    "                          scale=st.sem(nk_cells_expression_data[gene]))\n",
    "\n",
    "    are_intersect = check_intervals_intersect(ci_b, ci_nk)\n",
    "    ci_test_results.append(are_intersect)\n"
   ]
  },
  {
   "cell_type": "markdown",
   "metadata": {
    "id": "GTeBsVNHhpr9"
   },
   "source": [
    "<div class=\"alert alert-info\">\n",
    "    Попытайтесь оформить это в виде функции, которая будет принимать на вход две таблицы с экспрессиями и выдавать для каждого гена, значимо ли отличается его средняя экспрессия между клеточными типами.\n",
    "\n",
    "```python\n",
    "def check_dge_with_ci(first_table, second_table):\n",
    "    # dge - differential gene expression\n",
    "\n",
    "    return ci_test_results\n",
    "```\n",
    "    </div>"
   ]
  },
  {
   "cell_type": "code",
   "execution_count": 14,
   "metadata": {
    "ExecuteTime": {
     "start_time": "2024-01-21T16:49:07.042Z"
    },
    "id": "nxgCa0V-r8Xw"
   },
   "outputs": [],
   "source": [
    "def check_dge_with_ci(first_table, second_table):\n",
    "    def check_intervals_intersect(ci_b, ci_nk):\n",
    "        ci_b_start, ci_b_end = ci_b\n",
    "        ci_nk_start, ci_nk_end = ci_nk\n",
    "\n",
    "        if ci_b_end >= ci_nk_start and ci_nk_end >= ci_b_start:\n",
    "            return True\n",
    "        else:\n",
    "            return False\n",
    "\n",
    "    ci_test_results = {}  # Словарь для хранения результатов\n",
    "\n",
    "    for gene in first_table.columns:\n",
    "        ci_b = st.t.interval(confidence = 0.95,\n",
    "                             df = len(first_table[gene]) - 1,\n",
    "                             loc = np.mean(first_table[gene]),\n",
    "                             scale = st.sem(first_table[gene]))\n",
    "\n",
    "        ci_nk = st.t.interval(confidence = 0.95,\n",
    "                              df = len(second_table[gene]) - 1,\n",
    "                              loc = np.mean(second_table[gene]),\n",
    "                              scale = st.sem(second_table[gene]))\n",
    "\n",
    "        are_intersect = check_intervals_intersect(ci_b, ci_nk)\n",
    "        ci_test_results[gene] = are_intersect\n",
    "\n",
    "    return ci_test_results\n"
   ]
  },
  {
   "cell_type": "markdown",
   "metadata": {
    "id": "BTMrzw2Cjk8x"
   },
   "source": [
    "## Задание 3\n",
    "\n",
    "**4 баллов**"
   ]
  },
  {
   "cell_type": "markdown",
   "metadata": {
    "id": "Hg6BH7N-kilU"
   },
   "source": [
    "<div class=\"alert alert-info\">\n",
    "    Давайте теперь применим для той же задачи `z-критерий`. Будем считать, что в данном случае $\\alpha$ = 0.05, и если полученное `p-value` будет меньше, то экспрессия генов значимо отличается.\n",
    "    </div>"
   ]
  },
  {
   "cell_type": "code",
   "execution_count": 15,
   "metadata": {
    "ExecuteTime": {
     "start_time": "2024-01-21T16:49:07.060Z"
    },
    "id": "8ws5c8kQcyxA"
   },
   "outputs": [
    {
     "data": {
      "text/plain": [
       "(-1.3427434041885127, 0.17935507499860204)"
      ]
     },
     "execution_count": 15,
     "metadata": {},
     "output_type": "execute_result"
    }
   ],
   "source": [
    "# Наш излюбленный ген\n",
    "ztest(\n",
    "    b_cells_expression_data[example_gene],\n",
    "    nk_cells_expression_data[example_gene]\n",
    ")"
   ]
  },
  {
   "cell_type": "markdown",
   "metadata": {
    "id": "jouFFsZGlWr8"
   },
   "source": [
    "<div class=\"alert alert-info\">\n",
    "    Попытайтесь оформить это в виде функции, которая будет принимать на вход две таблицы с экспрессиями и выдавать для каждого гена, значимо ли отличается его средняя экспрессия между клеточными типами.\n",
    "\n",
    "```python\n",
    "def check_dge_with_ztest(first_table, second_table):\n",
    "    # dge - differential gene expression\n",
    "\n",
    "    return z_test_results\n",
    "```\n",
    "    </div>"
   ]
  },
  {
   "cell_type": "code",
   "execution_count": 16,
   "metadata": {
    "ExecuteTime": {
     "start_time": "2024-01-21T16:49:07.062Z"
    },
    "id": "aXc720tmhNt7"
   },
   "outputs": [],
   "source": [
    "def check_dge_with_ztest(first_table, second_table):\n",
    "    # dge - differential gene expression\n",
    "    \n",
    "    z_test_results = []\n",
    "    \n",
    "    \n",
    "    for gene in genes:\n",
    "        z_stat, p_value = ztest(first_table[gene], second_table[gene])\n",
    "        is_significant = p_value < alpha\n",
    "        \n",
    "        z_test_results.append(is_significant)    \n",
    "\n",
    "    return z_test_results\n",
    "\n",
    "z_test_results = check_dge_with_ztest(b_cells_expression_data, nk_cells_expression_data)"
   ]
  },
  {
   "cell_type": "markdown",
   "metadata": {
    "id": "TZpNj9EMlenZ"
   },
   "source": [
    "## Задание 4\n",
    "\n",
    "**10 баллов**"
   ]
  },
  {
   "cell_type": "markdown",
   "metadata": {
    "id": "sqCB9SY9ljrn"
   },
   "source": [
    "<div class=\"alert alert-info\">\n",
    "    Теперь пришла пора оформить все ваши старания в виде программы. Напишите программу (можно просто функцию), которая принимает на вход следующие аргуметры:\n",
    "\n",
    "1. `first_cell_type_expressions` &ndash; таблица с экспрессиями генов для одного клеточного типа;\n",
    "2. `second_cell_type_expressions` &ndash; таблица с экспрессиями генов для второго клеточного типа;\n",
    "\n",
    "Как читать данные при помощи пандаса мы уже знаем, осталось понять, как записывать результаты. Допустим, вы записывали результаты ваших тестов в списки, тогда создать пандасовский датафрейм можно следующим образом:\n",
    "    </div>"
   ]
  },
  {
   "cell_type": "code",
   "execution_count": 17,
   "metadata": {
    "ExecuteTime": {
     "start_time": "2024-01-21T16:49:07.080Z"
    },
    "colab": {
     "base_uri": "https://localhost:8080/",
     "height": 153
    },
    "id": "UK3kTYEBljMl",
    "outputId": "164a2f08-4909-4fa2-fee9-e77b2c3bf47d"
   },
   "outputs": [],
   "source": [
    "# ci_test_results = [True, False, True]\n",
    "# z_test_results = [True, True, True]\n",
    "# Опционально можно также сохранять p-value для z-критерия\n",
    "# z_test_p_values = [0.004, 0.01, 0.0001]\n",
    "# Также сохраните разницу в средних экспрессиях между 1 и 2 таблицами для каждого гена,\n",
    "# чтобы было понять, уменьшается или увеличивается экспрессия гена\n",
    "# mean_diff = [-10, 10, 0.5]\n",
    "\n",
    "# Созданим словарь {'название колонки': список_значений}\n",
    "# results = {\n",
    "#    \"ci_test_results\": ci_test_results,\n",
    "#    \"z_test_results\": z_test_results,\n",
    "#    \"z_test_p_values\": z_test_p_values,\n",
    "#    \"mean_diff\": mean_diff\n",
    "#}\n",
    "\n",
    "# Из словаря делаем датафрейм\n",
    "# results = pd.DataFrame(results)\n",
    "# results.head()"
   ]
  },
  {
   "cell_type": "code",
   "execution_count": 18,
   "metadata": {
    "ExecuteTime": {
     "start_time": "2024-01-21T16:49:07.081Z"
    },
    "id": "WvjHjmLcoBQO"
   },
   "outputs": [],
   "source": [
    "# Сохраним таблицу в .csv файл\n",
    "# results.to_csv(\"path_to_your_awesome_results.csv\")"
   ]
  },
  {
   "cell_type": "code",
   "execution_count": 19,
   "metadata": {
    "ExecuteTime": {
     "start_time": "2024-01-21T16:49:07.083Z"
    },
    "id": "MT2i-0StqcM2"
   },
   "outputs": [
    {
     "data": {
      "text/html": [
       "<div>\n",
       "<style scoped>\n",
       "    .dataframe tbody tr th:only-of-type {\n",
       "        vertical-align: middle;\n",
       "    }\n",
       "\n",
       "    .dataframe tbody tr th {\n",
       "        vertical-align: top;\n",
       "    }\n",
       "\n",
       "    .dataframe thead th {\n",
       "        text-align: right;\n",
       "    }\n",
       "</style>\n",
       "<table border=\"1\" class=\"dataframe\">\n",
       "  <thead>\n",
       "    <tr style=\"text-align: right;\">\n",
       "      <th></th>\n",
       "      <th>gene</th>\n",
       "      <th>ci_test_results</th>\n",
       "      <th>z_test_results</th>\n",
       "      <th>z_test_p_values</th>\n",
       "      <th>mean_diff</th>\n",
       "    </tr>\n",
       "  </thead>\n",
       "  <tbody>\n",
       "    <tr>\n",
       "      <th>0</th>\n",
       "      <td>TMCC1</td>\n",
       "      <td>True</td>\n",
       "      <td>False</td>\n",
       "      <td>0.179355</td>\n",
       "      <td>-3.452348</td>\n",
       "    </tr>\n",
       "    <tr>\n",
       "      <th>1</th>\n",
       "      <td>RANBP3</td>\n",
       "      <td>False</td>\n",
       "      <td>True</td>\n",
       "      <td>0.000063</td>\n",
       "      <td>-6.473981</td>\n",
       "    </tr>\n",
       "    <tr>\n",
       "      <th>2</th>\n",
       "      <td>GABRG3</td>\n",
       "      <td>True</td>\n",
       "      <td>False</td>\n",
       "      <td>0.704603</td>\n",
       "      <td>0.763407</td>\n",
       "    </tr>\n",
       "    <tr>\n",
       "      <th>3</th>\n",
       "      <td>ARRDC5</td>\n",
       "      <td>False</td>\n",
       "      <td>True</td>\n",
       "      <td>0.015754</td>\n",
       "      <td>-3.334424</td>\n",
       "    </tr>\n",
       "    <tr>\n",
       "      <th>4</th>\n",
       "      <td>LRP3</td>\n",
       "      <td>True</td>\n",
       "      <td>False</td>\n",
       "      <td>0.091768</td>\n",
       "      <td>2.725465</td>\n",
       "    </tr>\n",
       "  </tbody>\n",
       "</table>\n",
       "</div>"
      ],
      "text/plain": [
       "     gene  ci_test_results  z_test_results  z_test_p_values  mean_diff\n",
       "0   TMCC1             True           False         0.179355  -3.452348\n",
       "1  RANBP3            False            True         0.000063  -6.473981\n",
       "2  GABRG3             True           False         0.704603   0.763407\n",
       "3  ARRDC5            False            True         0.015754  -3.334424\n",
       "4    LRP3             True           False         0.091768   2.725465"
      ]
     },
     "execution_count": 19,
     "metadata": {},
     "output_type": "execute_result"
    }
   ],
   "source": [
    "def check_dge_with_ztest(first_cell_type_expressions, second_cell_type_expressions):\n",
    "    # dge - differential gene expression\n",
    "    \n",
    "    z_test_results = []\n",
    "    z_test_z_statistic = []\n",
    "    z_test_p_values = []\n",
    "    mean_diff = []\n",
    "    \n",
    "    \n",
    "    for gene in genes:\n",
    "        z_stat, p_value = ztest(first_cell_type_expressions[gene], second_cell_type_expressions[gene])\n",
    "        is_significant = p_value < alpha\n",
    "        mean = np.mean(first_cell_type_expressions[gene]) - np.mean(second_cell_type_expressions[gene])\n",
    "        \n",
    "        z_test_results.append(is_significant)\n",
    "        z_test_z_statistic.append(z_stat)\n",
    "        z_test_p_values.append(p_value)\n",
    "        mean_diff.append(mean)\n",
    "    \n",
    "\n",
    "    return z_test_results, z_test_z_statistic, z_test_p_values, mean_diff\n",
    "\n",
    "z_test_results, z_test_z_statistic, z_test_p_values, mean_diff = check_dge_with_ztest(b_cells_expression_data,\n",
    "                                                                                      nk_cells_expression_data)\n",
    "\n",
    "# Создадим словарь {'название колонки': список_значений}\n",
    "results = {\n",
    "    \"gene\": genes,\n",
    "    \"ci_test_results\": ci_test_results,\n",
    "    \"z_test_results\": z_test_results,\n",
    "    \"z_test_p_values\": z_test_p_values,\n",
    "    \"mean_diff\": mean_diff\n",
    "}\n",
    "\n",
    "# Из словаря делаем датафрейм\n",
    "results = pd.DataFrame(results)\n",
    "results.head()"
   ]
  },
  {
   "cell_type": "code",
   "execution_count": 20,
   "metadata": {
    "ExecuteTime": {
     "start_time": "2024-01-21T16:49:07.086Z"
    }
   },
   "outputs": [],
   "source": [
    "# Сохраним таблицу в .csv файл\n",
    "results.to_csv(\"/home/elvira/BLASTIM_ML_ON_PYTHON/day_09/immune_cells_data_results.csv\")"
   ]
  },
  {
   "cell_type": "code",
   "execution_count": 21,
   "metadata": {},
   "outputs": [],
   "source": [
    "# Запишем библиотеки окружения в файл\n",
    "!pip freeze --all > requirements.txt"
   ]
  }
 ],
 "metadata": {
  "colab": {
   "authorship_tag": "ABX9TyOKfMTWH0lBqrtsV1vYRP7M",
   "include_colab_link": true,
   "provenance": []
  },
  "kernelspec": {
   "display_name": "Python 3 (ipykernel)",
   "language": "python",
   "name": "python3"
  },
  "language_info": {
   "codemirror_mode": {
    "name": "ipython",
    "version": 3
   },
   "file_extension": ".py",
   "mimetype": "text/x-python",
   "name": "python",
   "nbconvert_exporter": "python",
   "pygments_lexer": "ipython3",
   "version": "3.10.12"
  },
  "toc": {
   "base_numbering": 1,
   "nav_menu": {},
   "number_sections": true,
   "sideBar": true,
   "skip_h1_title": false,
   "title_cell": "Table of Contents",
   "title_sidebar": "Contents",
   "toc_cell": false,
   "toc_position": {},
   "toc_section_display": true,
   "toc_window_display": false
  }
 },
 "nbformat": 4,
 "nbformat_minor": 4
}
